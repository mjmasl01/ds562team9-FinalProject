{
  "nbformat": 4,
  "nbformat_minor": 2,
  "cells": [
    {
      "cell_type": "code",
      "execution_count": 1,
      "outputs": [],
      "metadata": {
        "microsoft": {
          "language": "python"
        }
      },
      "source": [
        "%%pyspark\n",
        "pip install --upgrade yfinance"
      ]
    },
    {
      "cell_type": "code",
      "execution_count": 2,
      "outputs": [],
      "metadata": {
        "microsoft": {
          "language": "python"
        },
        "collapsed": false
      },
      "source": [
        "%%pyspark\n",
        "\n",
        "import yfinance as yf\n",
        "import matplotlib.pyplot as plt\n",
        "\n",
        "# Download historical data for BTC-USD\n",
        "df = yf.download(\"BTC-USD\", start=\"2013-01-03\", end=\"2021-05-24\")\n",
        "spark_df = spark.createDataFrame(df.reset_index())\n",
        "# Show first few rows in the Spark DataFrame\n",
        "display(spark_df.limit(5))"
      ]
    },
    {
      "cell_type": "code",
      "execution_count": 3,
      "outputs": [],
      "metadata": {},
      "source": [
        "container_name = \"bronze\"\n",
        "storage_account_name = \"ds562team9datalake\""
      ]
    },
    {
      "cell_type": "code",
      "execution_count": 7,
      "outputs": [],
      "metadata": {},
      "source": [
        "abfss_base_path = f\"abfss://{container_name}@{storage_account_name}.dfs.core.windows.net/bronze\"\n",
        "output_path = \"abfss://bronze@ds562team9datalake.dfs.core.windows.net/Historical_crypto/bitcoin\"\n",
        "\n",
        "# Save spark_df as Parquet\n",
        "spark_df.write.mode(\"overwrite\").parquet(output_path)\n",
        "\n",
        "print(\"Data saved to:\",output_path)"
      ]
    },
    {
      "cell_type": "code",
      "execution_count": null,
      "outputs": [],
      "metadata": {},
      "source": [
        ""
      ]
    }
  ],
  "metadata": {
    "description": null,
    "save_output": true,
    "language_info": {
      "name": "python"
    }
  }
}