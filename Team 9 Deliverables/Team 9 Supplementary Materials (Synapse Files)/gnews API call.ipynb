{
  "nbformat": 4,
  "nbformat_minor": 2,
  "cells": [
    {
      "cell_type": "code",
      "execution_count": null,
      "outputs": [],
      "metadata": {},
      "source": [
        "import joblib\n",
        "from io import BytesIO\n",
        "from azure.storage.filedatalake import DataLakeServiceClient\n",
        "import pandas as pd\n",
        "import requests\n",
        "from datetime import datetime, timedelta"
      ]
    },
    {
      "cell_type": "code",
      "execution_count": null,
      "outputs": [],
      "metadata": {},
      "source": [
        "# ─────────────────────────────────────────────────────────────────────────────\n",
        "# 2) DAILY NEWS FROM GNEWS.IO\n",
        "# ─────────────────────────────────────────────────────────────────────────────\n",
        "GNEWS_API_KEY = \"GNEWS_API_KEY\"\n",
        "if not GNEWS_API_KEY:\n",
        "    raise ValueError(\"Set GNEWS_API_KEY env var first\")\n",
        "\n",
        "gnews_url = (\n",
        "    \"https://gnews.io/api/v4/search\"\n",
        "    f\"?q=bitcoin\"\n",
        "    f\"&from={start_str}\"\n",
        "    f\"&to={end_str}\"\n",
        "    f\"&lang=en\"\n",
        "    f\"&sortby=publishedAt\"\n",
        "    f\"&max=100\"\n",
        "    f\"&token={GNEWS_API_KEY}\"\n",
        ")\n",
        "\n",
        "resp = requests.get(gnews_url)\n",
        "resp.raise_for_status()\n",
        "articles = resp.json().get(\"articles\", [])\n",
        "\n",
        "df_news = pd.DataFrame([\n",
        "    {\n",
        "      \"date\":   pd.to_datetime(a[\"publishedAt\"], utc=True).date(),\n",
        "      \"title\":  a[\"title\"],\n",
        "      \"text\":   (a.get(\"description\") or a.get(\"content\") or \"\"),\n",
        "      \"url\":    a[\"url\"],\n",
        "      \"source\": a[\"source\"][\"name\"]\n",
        "    }\n",
        "    for a in articles\n",
        "])\n",
        "df_news[\"year\"] = pd.to_datetime(df_news[\"date\"]).dt.year"
      ]
    },
    {
      "cell_type": "code",
      "execution_count": null,
      "outputs": [],
      "metadata": {},
      "source": [
        "news_agg = (\n",
        "    df_news\n",
        "      .groupby(\"date\")\n",
        "      .agg(news_sentiment=(\"sentiment_score\", \"mean\"),\n",
        "           news_count    =(\"sentiment_score\", \"size\"))\n",
        "      .reset_index()\n",
        ")"
      ]
    }
  ],
  "metadata": {
    "description": null,
    "save_output": true,
    "language_info": {
      "name": "python"
    }
  }
}