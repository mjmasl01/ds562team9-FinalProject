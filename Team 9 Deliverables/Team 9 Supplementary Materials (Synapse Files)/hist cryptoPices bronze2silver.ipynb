{
  "nbformat": 4,
  "nbformat_minor": 2,
  "cells": [
    {
      "cell_type": "code",
      "execution_count": 1,
      "outputs": [],
      "metadata": {},
      "source": [
        "storage_account = \"ds562team9datalake\"\n",
        "container_name = \"bronze\"\n",
        "file_path = \"Historical_crypto/bitcoin/\"  # NOTE: this is a folder of Parquet parts\n",
        "\n",
        "storage_key = \"KXg2Djg7uRevBSpPNIVnKw/N6HpqBh+kJwDX07wkywbpU2joMZdTIBOXk30EoMMxH2d8wwb+9j0g+AStO60IWw==\"\n",
        "\n",
        "spark.conf.set(f\"fs.azure.account.key.{storage_account}.blob.core.windows.net\", storage_key)\n",
        "\n",
        "url = f\"wasbs://{container_name}@{storage_account}.blob.core.windows.net/{file_path}\"\n",
        "\n",
        "df_bitcoin = spark.read.parquet(url)\n",
        "\n",
        "df_bitcoin.printSchema()\n",
        "print(\"Row count:\", df_bitcoin.count())"
      ]
    },
    {
      "cell_type": "code",
      "execution_count": 3,
      "outputs": [],
      "metadata": {},
      "source": [
        "# Count nulls in each column (skip isnan for non-numeric types)\n",
        "null_counts = df_bitcoin.select([\n",
        "    count(when(col(c).isNull(), c)).alias(str(c)) for c in df_bitcoin.columns\n",
        "])\n",
        "null_counts.show(truncate=False)\n",
        "\n",
        "# Get min and max date\n",
        "df_bitcoin.select(\n",
        "    min(col(\"`('Date', '')`\")).alias(\"min_date\"),\n",
        "    max(col(\"`('Date', '')`\")).alias(\"max_date\")\n",
        ").show()"
      ]
    },
    {
      "cell_type": "code",
      "execution_count": 4,
      "outputs": [],
      "metadata": {},
      "source": [
        "# Rename columns\n",
        "df_bitcoin_renamed = df_bitcoin.toDF(\"Date\", \"Close\", \"High\", \"Low\", \"Open\", \"Volume\")\n",
        "\n",
        "# Coalesce to a single file and save to bronze\n",
        "df_bitcoin_renamed.coalesce(1).write.mode(\"overwrite\").parquet(\n",
        "    \"wasbs://bronze@ds562team9datalake.blob.core.windows.net/Historical_crypto/cleaned_bitcoin_data/\"\n",
        ")"
      ]
    }
  ],
  "metadata": {
    "description": null,
    "save_output": true,
    "language_info": {
      "name": "python"
    }
  }
}