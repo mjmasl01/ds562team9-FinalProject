{
  "nbformat": 4,
  "nbformat_minor": 2,
  "cells": [
    {
      "cell_type": "code",
      "execution_count": 19,
      "outputs": [],
      "metadata": {},
      "source": [
        "import joblib\n",
        "from io import BytesIO\n",
        "from azure.storage.filedatalake import DataLakeServiceClient\n",
        "import pandas as pd\n",
        "import requests\n",
        "import yfinance as yf\n",
        "from datetime import datetime, timedelta"
      ]
    },
    {
      "cell_type": "code",
      "execution_count": null,
      "outputs": [],
      "metadata": {},
      "source": [
        "today     = datetime.utcnow()\n",
        "thirty_ago= today - timedelta(days=30)\n",
        "start_str = thirty_ago.strftime(\"%Y-%m-%d\")\n",
        "end_str   = today.strftime(\"%Y-%m-%d\")\n",
        "\n",
        "# Cleaning data\n",
        "df_price = (\n",
        "    yf.download(\n",
        "        \"BTC-USD\",\n",
        "        start=start_str,\n",
        "        end=end_str,\n",
        "        interval=\"1d\",\n",
        "        auto_adjust=False,\n",
        "        progress=False\n",
        "    )\n",
        "    .reset_index()\n",
        "    .rename(columns={\n",
        "        \"Date\":  \"date\",\n",
        "        \"Open\":   \"open_price\",\n",
        "        \"High\":   \"high_price\",\n",
        "        \"Low\":    \"low_price\",\n",
        "        \"Close\":  \"close_price\",\n",
        "        \"Volume\": \"volume\"\n",
        "    })\n",
        ")\n",
        "# convert to date only & extract year\n",
        "df_price[\"date\"] = pd.to_datetime(df_price[\"date\"], utc=True).dt.date\n",
        "df_price[\"year\"] = pd.to_datetime(df_price[\"date\"]).dt.year"
      ]
    },
    {
      "cell_type": "code",
      "execution_count": null,
      "outputs": [],
      "metadata": {},
      "source": [
        ""
      ]
    }
  ],
  "metadata": {
    "description": null,
    "save_output": true,
    "language_info": {
      "name": "python"
    }
  }
}