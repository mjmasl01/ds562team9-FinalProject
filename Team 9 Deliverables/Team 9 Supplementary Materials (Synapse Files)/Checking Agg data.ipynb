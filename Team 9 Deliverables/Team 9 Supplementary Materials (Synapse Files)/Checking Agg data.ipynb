{
  "nbformat": 4,
  "nbformat_minor": 2,
  "cells": [
    {
      "cell_type": "code",
      "execution_count": 4,
      "outputs": [],
      "metadata": {
        "collapsed": false
      },
      "source": [
        "spark.conf.set(\"fs.azure.account.key.ds562team9datalake.dfs.core.windows.net\", \"KXg2Djg7uRevBSpPNIVnKw/N6HpqBh+kJwDX07wkywbpU2joMZdTIBOXk30EoMMxH2d8wwb+9j0g+AStO60IWw==\")\n",
        "\n",
        "abfss_base_path = \"abfss://gold@ds562team9datalake.dfs.core.windows.net\"\n",
        "\n",
        "paths = {\n",
        "    \"agg_crypto_tweets\": f\"{abfss_base_path}/agg_crypto_tweets\",\n",
        "    \"agg_crypto_news\": f\"{abfss_base_path}/agg_crypto_news_by_source\",\n",
        "    \"agg_crypto_prices\": f\"{abfss_base_path}/agg_crypto_prices\",\n",
        "    \"agg_sentiment_over_time\": f\"{abfss_base_path}/agg_sentiment_over_time\",\n",
        "    \"agg_rolling_sentiment_volatility\": f\"{abfss_base_path}/agg_rolling_sentiment_volatility\",\n",
        "    \"agg_rsi_vs_price\": f\"{abfss_base_path}/agg_rsi_vs_price\",\n",
        "    \"agg_summary_metrics\": f\"{abfss_base_path}/agg_summary_metrics\"\n",
        "}\n",
        "\n",
        "for name, path in paths.items():\n",
        "    print(f\"\\n==== {name.upper()} ====\")\n",
        "    try:\n",
        "        df = spark.read.parquet(path)\n",
        "        df.printSchema()\n",
        "        display(df.limit(5))\n",
        "    except Exception as e:\n",
        "        print(f\"❌ Could not load {name}: {e}\")\n",
        ""
      ]
    }
  ],
  "metadata": {
    "description": null,
    "save_output": true,
    "language_info": {
      "name": "python"
    }
  }
}